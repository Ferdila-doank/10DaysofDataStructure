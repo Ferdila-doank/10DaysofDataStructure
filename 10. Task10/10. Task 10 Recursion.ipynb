{
 "cells": [
  {
   "cell_type": "markdown",
   "metadata": {},
   "source": [
    "# Task 10 (Recursion in Data Structure in Algorithms)"
   ]
  },
  {
   "cell_type": "markdown",
   "metadata": {},
   "source": [
    "## 1.recursive multiply"
   ]
  },
  {
   "cell_type": "code",
   "execution_count": 24,
   "metadata": {},
   "outputs": [],
   "source": [
    "def iterative_multiply(x, y):\n",
    "    result = 0\n",
    "    for i in range(y):\n",
    "        result = result + x\n",
    "    return result\n",
    "\n",
    "\n",
    "def recursive_multiply(x, y, idx= 0,result=0):\n",
    "    if idx == y:\n",
    "        return result\n",
    "    return recursive_multiply(x,y,idx+1,result+x)"
   ]
  },
  {
   "cell_type": "code",
   "execution_count": 25,
   "metadata": {},
   "outputs": [
    {
     "output_type": "stream",
     "name": "stdout",
     "text": "8\n8\n"
    }
   ],
   "source": [
    "print(iterative_multiply(2,4))\n",
    "print(recursive_multiply(2,4))"
   ]
  },
  {
   "cell_type": "markdown",
   "metadata": {},
   "source": [
    "## 2. Count Consonants in String "
   ]
  },
  {
   "cell_type": "code",
   "execution_count": 30,
   "metadata": {},
   "outputs": [
    {
     "output_type": "stream",
     "name": "stdout",
     "text": "9\n9\n"
    }
   ],
   "source": [
    "vowels = \"aeiou\"\n",
    "\n",
    "def iterative_count_consonants(input_str):\n",
    "    consonant_count = 0\n",
    "    for i in range(len(input_str)):\n",
    "        if input_str[i].lower() not in vowels and input_str[i].isalpha():\n",
    "            consonant_count += 1\n",
    "    return consonant_count\n",
    "\n",
    "\n",
    "def recursive_count_consonants(input_str):\n",
    "    if input_str == '':\n",
    "        return 0\n",
    "\n",
    "    if input_str[0].lower() not in vowels and input_str[0].isalpha():\n",
    "        return 1 + recursive_count_consonants(input_str[1:])\n",
    "    else:\n",
    "        return recursive_count_consonants(input_str[1:])\n",
    "\n",
    "input_str = 'Welcome to Educative!'\n",
    "print(iterative_count_consonants(input_str))\n",
    "\n",
    "input_str = 'Welcome to Educative!'\n",
    "print(recursive_count_consonants(input_str))"
   ]
  },
  {
   "cell_type": "code",
   "execution_count": null,
   "metadata": {},
   "outputs": [],
   "source": []
  }
 ],
 "metadata": {
  "language_info": {
   "codemirror_mode": {
    "name": "ipython",
    "version": 3
   },
   "file_extension": ".py",
   "mimetype": "text/x-python",
   "name": "python",
   "nbconvert_exporter": "python",
   "pygments_lexer": "ipython3",
   "version": "3.7.4-final"
  },
  "orig_nbformat": 2,
  "kernelspec": {
   "name": "python3",
   "display_name": "Python 3"
  }
 },
 "nbformat": 4,
 "nbformat_minor": 2
}
