{
 "cells": [
  {
   "cell_type": "markdown",
   "metadata": {},
   "source": [
    "# Task 2 (Single Linked List)"
   ]
  },
  {
   "cell_type": "markdown",
   "metadata": {},
   "source": [
    "## Task 2.1 "
   ]
  },
  {
   "cell_type": "code",
   "execution_count": 3,
   "metadata": {},
   "outputs": [
    {
     "output_type": "stream",
     "name": "stdout",
     "text": "44\n"
    }
   ],
   "source": [
    "class Node:\n",
    "    def __init__ (self,value):\n",
    "        self.value = value\n",
    "        self.next_node = None\n",
    "\n",
    "    def get_value(self):\n",
    "        return self.value\n",
    "    \n",
    "    def get_next_node(self):\n",
    "        return self.next_node\n",
    "\n",
    "my_node = Node(44)\n",
    "\n",
    "print(my_node.get_value())"
   ]
  },
  {
   "cell_type": "markdown",
   "metadata": {},
   "source": [
    "## Task 2.2"
   ]
  },
  {
   "cell_type": "code",
   "execution_count": 6,
   "metadata": {},
   "outputs": [
    {
     "output_type": "stream",
     "name": "stdout",
     "text": "44\n"
    }
   ],
   "source": [
    "class Node:\n",
    "    def __init__ (self,value):\n",
    "        self.value = value\n",
    "        self.next_node = None\n",
    "\n",
    "    def get_value(self):\n",
    "        return self.value\n",
    "    \n",
    "    def get_next_node(self):\n",
    "        return self.next_node\n",
    "\n",
    "class LinkedList:\n",
    "    def __init__ (self,value):\n",
    "        self.value = None\n",
    "        self.head_node = Node(value)\n",
    "    \n",
    "    def get_head_node(self):\n",
    "        return self.head_node\n",
    "\n",
    "llist = LinkedList(44)\n",
    "\n",
    "print(llist.get_head_node().get_value())"
   ]
  },
  {
   "cell_type": "markdown",
   "metadata": {},
   "source": [
    "## Task 2.3"
   ]
  },
  {
   "cell_type": "code",
   "execution_count": 8,
   "metadata": {},
   "outputs": [
    {
     "output_type": "stream",
     "name": "stdout",
     "text": "1\nB\n"
    }
   ],
   "source": [
    "class Node:\n",
    "    def __init__ (self,value):\n",
    "        self.value = value\n",
    "        self.next_node = None\n",
    "\n",
    "    def get_value(self):\n",
    "        return self.value\n",
    "    \n",
    "    def get_next_node(self):\n",
    "        return self.next_node\n",
    "\n",
    "class LinkedList:\n",
    "    def __init__ (self,value):\n",
    "        self.value = None\n",
    "        self.head_node = Node(value)\n",
    "    \n",
    "    def get_head_node(self):\n",
    "        return self.head_node\n",
    "\n",
    "    def insert_beginning(self, new_value):\n",
    "        new_node = Node(new_value)\n",
    "\n",
    "        if self.head_node == None:\n",
    "            self.head_node = new_node\n",
    "            return\n",
    "\n",
    "        last_node = self.head_node\n",
    "\n",
    "        while last_node.next_node:\n",
    "            last_node = last_node.next_node\n",
    "        last_node.next_node = new_node\n",
    "\n",
    "    def stringify_list(self):\n",
    "        cur_node = self.head_node\n",
    "        while cur_node:\n",
    "            print(str(cur_node.value))\n",
    "            cur_node = cur_node.next_node\n",
    "\n",
    "llist = LinkedList('1')\n",
    "llist.insert_beginning('B')\n",
    "llist.stringify_list()"
   ]
  },
  {
   "cell_type": "markdown",
   "metadata": {},
   "source": [
    "## Task 2.3"
   ]
  },
  {
   "cell_type": "code",
   "execution_count": 10,
   "metadata": {},
   "outputs": [
    {
     "output_type": "stream",
     "name": "stdout",
     "text": "1\n3\n"
    }
   ],
   "source": [
    "class Node:\n",
    "    def __init__ (self,value):\n",
    "        self.value = value\n",
    "        self.next_node = None\n",
    "\n",
    "    def get_value(self):\n",
    "        return self.value\n",
    "    \n",
    "    def get_next_node(self):\n",
    "        return self.next_node\n",
    "\n",
    "class LinkedList:\n",
    "    def __init__ (self,value):\n",
    "        self.value = None\n",
    "        self.head_node = Node(value)\n",
    "    \n",
    "    def get_head_node(self):\n",
    "        return self.head_node\n",
    "\n",
    "    def insert_beginning(self, new_value):\n",
    "        new_node = Node(new_value)\n",
    "\n",
    "        if self.head_node == None:\n",
    "            self.head_node = new_node\n",
    "            return\n",
    "\n",
    "        last_node = self.head_node\n",
    "\n",
    "        while last_node.next_node:\n",
    "            last_node = last_node.next_node\n",
    "        last_node.next_node = new_node\n",
    "\n",
    "    def stringify_list(self):\n",
    "        cur_node = self.head_node\n",
    "        while cur_node:\n",
    "            print(str(cur_node.value))\n",
    "            cur_node = cur_node.next_node\n",
    "\n",
    "    def remove_node(self,value_to_remove):\n",
    "        current_node = self.head_node\n",
    "\n",
    "        if current_node and current_node.value == value_to_remove:\n",
    "            self.head_node = current_node.next_node\n",
    "            current_node = None\n",
    "            return\n",
    "\n",
    "        prev = None \n",
    "        while current_node and current_node.value != value_to_remove:\n",
    "            prev = current_node\n",
    "            current_node = current_node.next_node\n",
    "\n",
    "        if current_node is None:\n",
    "            return \n",
    "\n",
    "        prev.next_node = current_node.next_node\n",
    "        current_node = None\n",
    "\n",
    "llist = LinkedList('1')\n",
    "llist.insert_beginning('B')\n",
    "llist.insert_beginning('3')\n",
    "\n",
    "llist.remove_node('B')\n",
    "llist.stringify_list()"
   ]
  },
  {
   "cell_type": "code",
   "execution_count": null,
   "metadata": {},
   "outputs": [],
   "source": []
  }
 ],
 "metadata": {
  "language_info": {
   "codemirror_mode": {
    "name": "ipython",
    "version": 3
   },
   "file_extension": ".py",
   "mimetype": "text/x-python",
   "name": "python",
   "nbconvert_exporter": "python",
   "pygments_lexer": "ipython3",
   "version": "3.7.4-final"
  },
  "orig_nbformat": 2,
  "kernelspec": {
   "name": "python3",
   "display_name": "Python 3"
  }
 },
 "nbformat": 4,
 "nbformat_minor": 2
}