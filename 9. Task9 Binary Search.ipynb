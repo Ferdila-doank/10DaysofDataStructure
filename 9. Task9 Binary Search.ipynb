{
 "cells": [
  {
   "cell_type": "code",
   "execution_count": 1,
   "metadata": {},
   "outputs": [],
   "source": [
    "import math"
   ]
  },
  {
   "cell_type": "markdown",
   "metadata": {},
   "source": [
    "## 1. Integer Square Root"
   ]
  },
  {
   "cell_type": "code",
   "execution_count": 26,
   "metadata": {},
   "outputs": [
    {
     "output_type": "stream",
     "name": "stdout",
     "text": "Output : 3\n(3)^2 = 9 < 12\n(2)^2 = 2 > 12\nso the number\n3 is the correct response.\n"
    }
   ],
   "source": [
    "input_number = int(input('Input : '))\n",
    "\n",
    "def integer_square_root(k):\n",
    "    max = round(math.sqrt(k))\n",
    "\n",
    "    print('Output : ' + str(max))\n",
    "    print('(' + str(max) + ')^2 = ' + str(max**2) + ' < ' + str(input_number))\n",
    "    print('(' + str(max - 1) + ')^2 = ' + str(max - 1**2) + ' > ' + str(input_number))\n",
    "    print('so the number')\n",
    "    print(str(max) + ' is the correct response.')\n",
    "\n",
    "integer_square_root(input_number)"
   ]
  },
  {
   "cell_type": "markdown",
   "metadata": {},
   "source": [
    "## 2. Cyclically Shifted Array"
   ]
  },
  {
   "cell_type": "code",
   "execution_count": 11,
   "metadata": {},
   "outputs": [
    {
     "output_type": "stream",
     "name": "stdout",
     "text": "cyclic shift array 1 found in index : 6\ncyclic shift array 2 found in index : 5\ncyclic shift array 3 found in index : 4\ncyclic shift array 4 found in index : 3\ncyclic shift array 5 found in index : 2\ncyclic shift array 6 found in index : 1\n"
    }
   ],
   "source": [
    "\n",
    "def find(A):\n",
    "    len_array = len(A)\n",
    "    A.sort()\n",
    "    min_array = A[0]\n",
    "\n",
    "    tmp = []\n",
    "    for i in range(len(A)): \n",
    "        if i == len_array - 1:\n",
    "            break\n",
    "\n",
    "        #print (str(i) + '\\n')\n",
    "        for j in range(i+1,len(A)):\n",
    "            #print(A[j])\n",
    "            tmp.append(A[j])\n",
    "\n",
    "        for k in range(i+1):\n",
    "            #print(A[k])\n",
    "            tmp.append(A[k])\n",
    "        \n",
    "        \n",
    "        print('cyclic shift array ' + str(i+1) + ' found in index : ' + str(linear_search(tmp,min_array)))\n",
    "\n",
    "        tmp = [] \n",
    "\n",
    "def linear_search(data, target):\t\n",
    "\tfor i in range(len(data)):\n",
    "\t\tif data[i] == target:\n",
    "\t\t\treturn i\n",
    "\treturn False\n",
    "\n",
    "A = [4,5,6,7,1,2,3]\n",
    "\n",
    "find(A)"
   ]
  },
  {
   "cell_type": "code",
   "execution_count": null,
   "metadata": {},
   "outputs": [],
   "source": []
  }
 ],
 "metadata": {
  "language_info": {
   "codemirror_mode": {
    "name": "ipython",
    "version": 3
   },
   "file_extension": ".py",
   "mimetype": "text/x-python",
   "name": "python",
   "nbconvert_exporter": "python",
   "pygments_lexer": "ipython3",
   "version": "3.7.4-final"
  },
  "orig_nbformat": 2,
  "kernelspec": {
   "name": "python3",
   "display_name": "Python 3"
  }
 },
 "nbformat": 4,
 "nbformat_minor": 2
}