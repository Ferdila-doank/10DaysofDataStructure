{
 "cells": [
  {
   "cell_type": "markdown",
   "metadata": {},
   "source": [
    "# Task 6 Arrays in Data Structure in Algorithms"
   ]
  },
  {
   "cell_type": "code",
   "execution_count": 43,
   "metadata": {},
   "outputs": [
    {
     "output_type": "stream",
     "name": "stdout",
     "text": "Maximum Profit = 30\nBuying Price = 260\nSelling Price = 290\nIf stocks are bought on day 4 for a price\nof 260 and sold on day 6 for a price of 290,\nwe end up with a maximum profit of 30\n"
    }
   ],
   "source": [
    "def buy_and_sell_stock_once(prices):\n",
    "\n",
    "    last_idx = len(prices) - 1\n",
    "    i = 0\n",
    "    j = 0\n",
    "    tmp = [0,0,0]\n",
    "    #[buy_day,sel_day,profit]\n",
    "\n",
    "    while i < last_idx:\n",
    "        j = i\n",
    "        while j < last_idx:\n",
    "            if (prices[j] - prices[i]) > tmp[2]:\n",
    "                tmp[2] = prices[j] - prices[i]\n",
    "                tmp[0] = i\n",
    "                tmp[1] = j\n",
    "            j = j + 1\n",
    "        i = i + 1\n",
    "\n",
    "    print('Maximum Profit = ' + str(tmp[2]))\n",
    "    print('Buying Price = ' + str(prices[tmp[0]]))\n",
    "    print('Selling Price = ' + str(prices[tmp[1]]))\n",
    "    print('If stocks are bought on day ' + str(tmp[0]) + ' for a price')\n",
    "    print('of ' + str(prices[tmp[0]]) + ' and sold on day ' + str(tmp[1]) + ' for a price of ' + str(prices[tmp[1]]) + ',')\n",
    "    print('we end up with a maximum profit of ' + str(tmp[2]))\n",
    "\n",
    "a = [310,315,275,295,260,270,290,230,255,250]\n",
    "\n",
    "buy_and_sell_stock_once(a)\n"
   ]
  }
 ],
 "metadata": {
  "language_info": {
   "codemirror_mode": {
    "name": "ipython",
    "version": 3
   },
   "file_extension": ".py",
   "mimetype": "text/x-python",
   "name": "python",
   "nbconvert_exporter": "python",
   "pygments_lexer": "ipython3",
   "version": "3.7.4-final"
  },
  "orig_nbformat": 2,
  "kernelspec": {
   "name": "python3",
   "display_name": "Python 3"
  }
 },
 "nbformat": 4,
 "nbformat_minor": 2
}